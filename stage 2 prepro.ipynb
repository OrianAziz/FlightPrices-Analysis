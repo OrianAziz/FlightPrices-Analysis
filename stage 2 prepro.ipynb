{
 "cells": [
  {
   "cell_type": "code",
   "execution_count": null,
   "metadata": {
    "vscode": {
     "languageId": "plaintext"
    }
   },
   "outputs": [],
   "source": [
    "import pandas as pd\n",
    "import numpy as np\n",
    "import seaborn as sns\n",
    "import matplotlib.pyplot as plt"
   ]
  },
  {
   "cell_type": "code",
   "execution_count": null,
   "metadata": {
    "vscode": {
     "languageId": "plaintext"
    }
   },
   "outputs": [],
   "source": [
    "# קריאת הנתונים\n",
    "df = pd.read_csv(\"flight_data_kiwi_02_03_25_clean.csv\")"
   ]
  },
  {
   "cell_type": "code",
   "execution_count": null,
   "metadata": {
    "vscode": {
     "languageId": "plaintext"
    }
   },
   "outputs": [],
   "source": [
    "# תצוגה ראשונית של הנתונים\n",
    "print(df.info())\n",
    "print(df.describe())\n",
    "print(df.head())"
   ]
  },
  {
   "cell_type": "code",
   "execution_count": null,
   "metadata": {
    "vscode": {
     "languageId": "plaintext"
    }
   },
   "outputs": [],
   "source": [
    "# טיפול בערכים חסרים\n",
    "df.dropna(inplace=True)  # מחיקת שורות עם ערכים חסרים"
   ]
  },
  {
   "cell_type": "code",
   "execution_count": null,
   "metadata": {
    "vscode": {
     "languageId": "plaintext"
    }
   },
   "outputs": [],
   "source": [
    "# בדיקת outliers באמצעות Tukey method (1.5 * IQR)\n",
    "def detect_outliers_tukey(data, column):\n",
    "    Q1 = np.percentile(data[column], 25)\n",
    "    Q3 = np.percentile(data[column], 75)\n",
    "    IQR = Q3 - Q1\n",
    "    lower_bound = Q1 - 1.5 * IQR\n",
    "    upper_bound = Q3 + 1.5 * IQR\n",
    "    return data[(data[column] < lower_bound) | (data[column] > upper_bound)]\n"
   ]
  },
  {
   "cell_type": "code",
   "execution_count": null,
   "metadata": {
    "vscode": {
     "languageId": "plaintext"
    }
   },
   "outputs": [],
   "source": [
    "# זיהוי ומחיקת outliers עבור מחירי טיסות\n",
    "price_outliers = detect_outliers_tukey(df, 'flight_price')\n",
    "df = df[~df.index.isin(price_outliers.index)]"
   ]
  },
  {
   "cell_type": "code",
   "execution_count": null,
   "metadata": {
    "vscode": {
     "languageId": "plaintext"
    }
   },
   "outputs": [],
   "source": [
    "# ניתוח מחירים כלליים\n",
    "sns.histplot(df['flight_price'], bins=30, kde=True)\n",
    "plt.title(\"Flight Price Distribution\")\n",
    "plt.show()"
   ]
  },
  {
   "cell_type": "code",
   "execution_count": null,
   "metadata": {
    "vscode": {
     "languageId": "plaintext"
    }
   },
   "outputs": [],
   "source": [
    "# מחירי טיסות לפי חברות תעופה\n",
    "plt.figure(figsize=(12,6))\n",
    "sns.boxplot(x='airline', y='flight_price', data=df)\n",
    "plt.xticks(rotation=90)\n",
    "plt.title(\"Flight Prices by Airlines\")\n",
    "plt.show()"
   ]
  },
  {
   "cell_type": "code",
   "execution_count": null,
   "metadata": {
    "vscode": {
     "languageId": "plaintext"
    }
   },
   "outputs": [],
   "source": [
    "# חקירת תלות בין משתנים\n",
    "sns.pairplot(df[['flight_price', 'departure_time', 'arrival_time', 'duration']])\n",
    "plt.show()"
   ]
  },
  {
   "cell_type": "code",
   "execution_count": null,
   "metadata": {
    "vscode": {
     "languageId": "plaintext"
    }
   },
   "outputs": [],
   "source": [
    "# מטריצת מתאמים בין משתנים מספריים\n",
    "plt.figure(figsize=(10,6))\n",
    "sns.heatmap(df.corr(), annot=True, cmap='coolwarm', fmt='.2f')\n",
    "plt.title(\"Correlation Matrix\")\n",
    "plt.show()"
   ]
  },
  {
   "cell_type": "code",
   "execution_count": null,
   "metadata": {
    "vscode": {
     "languageId": "plaintext"
    }
   },
   "outputs": [],
   "source": [
    "# שמירת הנתונים לאחר עיבוד\n",
    "cleaned_file_path = '/mnt/data/flight_data_cleaned.csv'\n",
    "df.to_csv(cleaned_file_path, index=False)\n",
    "print(f\"Cleaned data saved to {cleaned_file_path}\")"
   ]
  }
 ],
 "metadata": {
  "language_info": {
   "name": "python"
  }
 },
 "nbformat": 4,
 "nbformat_minor": 2
}
