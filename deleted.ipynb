{
 "cells": [
  {
   "cell_type": "code",
   "execution_count": null,
   "metadata": {
    "vscode": {
     "languageId": "plaintext"
    }
   },
   "outputs": [],
   "source": [
    "#Catch each flight and return how much flight in page\n",
    "elements = driver.find_elements(By.XPATH, './/*[@class=\"Fxw9-result-item-container\"]')\n",
    "\n",
    "# Get the length of the elements list\n",
    "length = len(elements)\n",
    "\n",
    "print (length)"
   ]
  },
  {
   "cell_type": "code",
   "execution_count": null,
   "metadata": {
    "vscode": {
     "languageId": "plaintext"
    }
   },
   "outputs": [],
   "source": [
    "#click show more until we have 100 difrrent flights\n",
    "elements = driver.find_elements(By.XPATH, './/*[@class=\"Fxw9-result-item-container\"]')\n",
    "length = len(elements)\n",
    "\n",
    "# Keep clicking the 'Show More' button until 100 results are present\n",
    "while length < 100:\n",
    "    # Locate 'Show More' button\n",
    "    load_more_buttons = driver.find_elements(By.XPATH, '//*[@class=\"ULvh-button show-more-button\"]')\n",
    "    \n",
    "    if load_more_buttons:  # Ensure at least one button exists\n",
    "        load_more_buttons[0].click()  # Click the first button\n",
    "        time.sleep(2)  # Wait for new results to load\n",
    "        elements = driver.find_elements(By.XPATH, './/*[@class=\"Fxw9-result-item-container\"]')\n",
    "        length = len(elements)  # Update the length of elements\n"
   ]
  },
  {
   "cell_type": "code",
   "execution_count": null,
   "metadata": {
    "vscode": {
     "languageId": "plaintext"
    }
   },
   "outputs": [],
   "source": [
    "for item in driver.find_elements(By.XPATH,'.//*[@class=\"nrc6-inner\"]'):\n",
    "    print (item.find_element(By.XPATH,'.//*[@class=\"c3J0r c3J0r-mod-desktop-responsive\"]').text)\n",
    "    print (item.find_element(By.XPATH,'.//*[@class=\"c3J0r c3J0r-mod-desktop-responsive\"]').text)\n",
    "    print (item.find_element(By.XPATH,'.//*[@class=\"f8F1-price-text\"]').text)"
   ]
  },
  {
   "cell_type": "code",
   "execution_count": null,
   "metadata": {
    "vscode": {
     "languageId": "plaintext"
    }
   },
   "outputs": [],
   "source": [
    "driver = webdriver.Chrome()\n",
    "for url in all_urls:\n",
    "   driver.get(url)\n",
    "   time.sleep(3)\n",
    "   # Click 'Show More' button until 100 results are present\n",
    "   while True:\n",
    "      elements = driver.find_elements(By.XPATH, './/*[@class=\"Fxw9-result-item-container\"]')\n",
    "      if len(elements) >= 100:\n",
    "            break\n",
    "      load_more_buttons = driver.find_elements(By.XPATH, '//*[@class=\"ULvh-button show-more-button\"]')\n",
    "      if load_more_buttons:\n",
    "            load_more_buttons[0].click()\n",
    "            time.sleep(2)\n",
    "      else:\n",
    "          break"
   ]
  },
  {
   "cell_type": "code",
   "execution_count": null,
   "metadata": {
    "vscode": {
     "languageId": "plaintext"
    }
   },
   "outputs": [],
   "source": []
  }
 ],
 "metadata": {
  "language_info": {
   "name": "python"
  }
 },
 "nbformat": 4,
 "nbformat_minor": 2
}
