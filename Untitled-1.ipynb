{
 "cells": [
  {
   "cell_type": "markdown",
   "metadata": {},
   "source": [
    "##### The plan is to make a for on for loop using the url the outer loop is TTT and the inner loop is LOS \n",
    "##### TTT = the gap between the day of search with the day of fly \n",
    "##### LOS = time of vac"
   ]
  },
  {
   "cell_type": "code",
   "execution_count": 64,
   "metadata": {},
   "outputs": [],
   "source": [
    "from datetime import datetime, timedelta\n",
    "from selenium import webdriver\n",
    "import time\n",
    "import csv\n",
    "from selenium.webdriver.common.by import By\n",
    "from selenium.webdriver.common.keys import Keys"
   ]
  },
  {
   "cell_type": "code",
   "execution_count": 65,
   "metadata": {},
   "outputs": [],
   "source": [
    "first_part_url = \"https://www.il.kayak.com/flights/\"\n",
    "last_part_url = \"?ucs=1tehueu&sort=bestflight_a\""
   ]
  },
  {
   "cell_type": "code",
   "execution_count": 66,
   "metadata": {},
   "outputs": [
    {
     "data": {
      "text/plain": [
       "['2025-02-27',\n",
       " '2025-02-28',\n",
       " '2025-03-01',\n",
       " '2025-03-02',\n",
       " '2025-03-03',\n",
       " '2025-03-04',\n",
       " '2025-03-05',\n",
       " '2025-03-06',\n",
       " '2025-03-07',\n",
       " '2025-03-08',\n",
       " '2025-03-09',\n",
       " '2025-03-10',\n",
       " '2025-03-11',\n",
       " '2025-03-12',\n",
       " '2025-03-13',\n",
       " '2025-03-14',\n",
       " '2025-03-15',\n",
       " '2025-03-16',\n",
       " '2025-03-17',\n",
       " '2025-03-18',\n",
       " '2025-03-19',\n",
       " '2025-03-20',\n",
       " '2025-03-21',\n",
       " '2025-03-22',\n",
       " '2025-03-23',\n",
       " '2025-03-24',\n",
       " '2025-03-25',\n",
       " '2025-03-26',\n",
       " '2025-03-27',\n",
       " '2025-03-28']"
      ]
     },
     "execution_count": 66,
     "metadata": {},
     "output_type": "execute_result"
    }
   ],
   "source": [
    "TTT = [(datetime.today() + timedelta(days=i)).strftime('%Y-%m-%d') for i in range(1, 31)]\n",
    "TTT"
   ]
  },
  {
   "cell_type": "code",
   "execution_count": 67,
   "metadata": {},
   "outputs": [
    {
     "data": {
      "text/plain": [
       "['2025-02-27', '2025-02-28', '2025-03-01', '2025-03-02', '2025-03-03']"
      ]
     },
     "execution_count": 67,
     "metadata": {},
     "output_type": "execute_result"
    }
   ],
   "source": [
    "LOS = [(datetime.today() + timedelta(days=i)).strftime('%Y-%m-%d') for i in range(1, 6)]\n",
    "LOS"
   ]
  },
  {
   "cell_type": "code",
   "execution_count": 68,
   "metadata": {},
   "outputs": [],
   "source": [
    "snapshot_date = datetime.today().strftime('%Y-%m-%d')"
   ]
  },
  {
   "cell_type": "code",
   "execution_count": 69,
   "metadata": {},
   "outputs": [
    {
     "name": "stdout",
     "output_type": "stream",
     "text": [
      "Total URLs generated: 150\n",
      "Sample URLs:\n",
      "https://www.il.kayak.com/flights/LON-PAR/2025-02-27/2025-02-28?ucs=1tehueu&sort=bestflight_a\n",
      "https://www.il.kayak.com/flights/LON-PAR/2025-02-27/2025-03-01?ucs=1tehueu&sort=bestflight_a\n",
      "https://www.il.kayak.com/flights/LON-PAR/2025-02-27/2025-03-02?ucs=1tehueu&sort=bestflight_a\n",
      "https://www.il.kayak.com/flights/LON-PAR/2025-02-27/2025-03-03?ucs=1tehueu&sort=bestflight_a\n",
      "https://www.il.kayak.com/flights/LON-PAR/2025-02-27/2025-03-04?ucs=1tehueu&sort=bestflight_a\n",
      "https://www.il.kayak.com/flights/LON-PAR/2025-02-28/2025-03-01?ucs=1tehueu&sort=bestflight_a\n",
      "https://www.il.kayak.com/flights/LON-PAR/2025-02-28/2025-03-02?ucs=1tehueu&sort=bestflight_a\n",
      "https://www.il.kayak.com/flights/LON-PAR/2025-02-28/2025-03-03?ucs=1tehueu&sort=bestflight_a\n",
      "https://www.il.kayak.com/flights/LON-PAR/2025-02-28/2025-03-04?ucs=1tehueu&sort=bestflight_a\n",
      "https://www.il.kayak.com/flights/LON-PAR/2025-02-28/2025-03-05?ucs=1tehueu&sort=bestflight_a\n",
      "https://www.il.kayak.com/flights/LON-PAR/2025-03-01/2025-03-02?ucs=1tehueu&sort=bestflight_a\n",
      "https://www.il.kayak.com/flights/LON-PAR/2025-03-01/2025-03-03?ucs=1tehueu&sort=bestflight_a\n",
      "https://www.il.kayak.com/flights/LON-PAR/2025-03-01/2025-03-04?ucs=1tehueu&sort=bestflight_a\n",
      "https://www.il.kayak.com/flights/LON-PAR/2025-03-01/2025-03-05?ucs=1tehueu&sort=bestflight_a\n",
      "https://www.il.kayak.com/flights/LON-PAR/2025-03-01/2025-03-06?ucs=1tehueu&sort=bestflight_a\n",
      "https://www.il.kayak.com/flights/LON-PAR/2025-03-02/2025-03-03?ucs=1tehueu&sort=bestflight_a\n",
      "https://www.il.kayak.com/flights/LON-PAR/2025-03-02/2025-03-04?ucs=1tehueu&sort=bestflight_a\n",
      "https://www.il.kayak.com/flights/LON-PAR/2025-03-02/2025-03-05?ucs=1tehueu&sort=bestflight_a\n",
      "https://www.il.kayak.com/flights/LON-PAR/2025-03-02/2025-03-06?ucs=1tehueu&sort=bestflight_a\n",
      "https://www.il.kayak.com/flights/LON-PAR/2025-03-02/2025-03-07?ucs=1tehueu&sort=bestflight_a\n",
      "https://www.il.kayak.com/flights/LON-PAR/2025-03-03/2025-03-04?ucs=1tehueu&sort=bestflight_a\n",
      "https://www.il.kayak.com/flights/LON-PAR/2025-03-03/2025-03-05?ucs=1tehueu&sort=bestflight_a\n",
      "https://www.il.kayak.com/flights/LON-PAR/2025-03-03/2025-03-06?ucs=1tehueu&sort=bestflight_a\n",
      "https://www.il.kayak.com/flights/LON-PAR/2025-03-03/2025-03-07?ucs=1tehueu&sort=bestflight_a\n",
      "https://www.il.kayak.com/flights/LON-PAR/2025-03-03/2025-03-08?ucs=1tehueu&sort=bestflight_a\n",
      "https://www.il.kayak.com/flights/LON-PAR/2025-03-04/2025-03-05?ucs=1tehueu&sort=bestflight_a\n",
      "https://www.il.kayak.com/flights/LON-PAR/2025-03-04/2025-03-06?ucs=1tehueu&sort=bestflight_a\n",
      "https://www.il.kayak.com/flights/LON-PAR/2025-03-04/2025-03-07?ucs=1tehueu&sort=bestflight_a\n",
      "https://www.il.kayak.com/flights/LON-PAR/2025-03-04/2025-03-08?ucs=1tehueu&sort=bestflight_a\n",
      "https://www.il.kayak.com/flights/LON-PAR/2025-03-04/2025-03-09?ucs=1tehueu&sort=bestflight_a\n",
      "https://www.il.kayak.com/flights/LON-PAR/2025-03-05/2025-03-06?ucs=1tehueu&sort=bestflight_a\n",
      "https://www.il.kayak.com/flights/LON-PAR/2025-03-05/2025-03-07?ucs=1tehueu&sort=bestflight_a\n",
      "https://www.il.kayak.com/flights/LON-PAR/2025-03-05/2025-03-08?ucs=1tehueu&sort=bestflight_a\n",
      "https://www.il.kayak.com/flights/LON-PAR/2025-03-05/2025-03-09?ucs=1tehueu&sort=bestflight_a\n",
      "https://www.il.kayak.com/flights/LON-PAR/2025-03-05/2025-03-10?ucs=1tehueu&sort=bestflight_a\n",
      "https://www.il.kayak.com/flights/LON-PAR/2025-03-06/2025-03-07?ucs=1tehueu&sort=bestflight_a\n",
      "https://www.il.kayak.com/flights/LON-PAR/2025-03-06/2025-03-08?ucs=1tehueu&sort=bestflight_a\n",
      "https://www.il.kayak.com/flights/LON-PAR/2025-03-06/2025-03-09?ucs=1tehueu&sort=bestflight_a\n",
      "https://www.il.kayak.com/flights/LON-PAR/2025-03-06/2025-03-10?ucs=1tehueu&sort=bestflight_a\n",
      "https://www.il.kayak.com/flights/LON-PAR/2025-03-06/2025-03-11?ucs=1tehueu&sort=bestflight_a\n",
      "https://www.il.kayak.com/flights/LON-PAR/2025-03-07/2025-03-08?ucs=1tehueu&sort=bestflight_a\n",
      "https://www.il.kayak.com/flights/LON-PAR/2025-03-07/2025-03-09?ucs=1tehueu&sort=bestflight_a\n",
      "https://www.il.kayak.com/flights/LON-PAR/2025-03-07/2025-03-10?ucs=1tehueu&sort=bestflight_a\n",
      "https://www.il.kayak.com/flights/LON-PAR/2025-03-07/2025-03-11?ucs=1tehueu&sort=bestflight_a\n",
      "https://www.il.kayak.com/flights/LON-PAR/2025-03-07/2025-03-12?ucs=1tehueu&sort=bestflight_a\n",
      "https://www.il.kayak.com/flights/LON-PAR/2025-03-08/2025-03-09?ucs=1tehueu&sort=bestflight_a\n",
      "https://www.il.kayak.com/flights/LON-PAR/2025-03-08/2025-03-10?ucs=1tehueu&sort=bestflight_a\n",
      "https://www.il.kayak.com/flights/LON-PAR/2025-03-08/2025-03-11?ucs=1tehueu&sort=bestflight_a\n",
      "https://www.il.kayak.com/flights/LON-PAR/2025-03-08/2025-03-12?ucs=1tehueu&sort=bestflight_a\n",
      "https://www.il.kayak.com/flights/LON-PAR/2025-03-08/2025-03-13?ucs=1tehueu&sort=bestflight_a\n",
      "https://www.il.kayak.com/flights/LON-PAR/2025-03-09/2025-03-10?ucs=1tehueu&sort=bestflight_a\n",
      "https://www.il.kayak.com/flights/LON-PAR/2025-03-09/2025-03-11?ucs=1tehueu&sort=bestflight_a\n",
      "https://www.il.kayak.com/flights/LON-PAR/2025-03-09/2025-03-12?ucs=1tehueu&sort=bestflight_a\n",
      "https://www.il.kayak.com/flights/LON-PAR/2025-03-09/2025-03-13?ucs=1tehueu&sort=bestflight_a\n",
      "https://www.il.kayak.com/flights/LON-PAR/2025-03-09/2025-03-14?ucs=1tehueu&sort=bestflight_a\n",
      "https://www.il.kayak.com/flights/LON-PAR/2025-03-10/2025-03-11?ucs=1tehueu&sort=bestflight_a\n",
      "https://www.il.kayak.com/flights/LON-PAR/2025-03-10/2025-03-12?ucs=1tehueu&sort=bestflight_a\n",
      "https://www.il.kayak.com/flights/LON-PAR/2025-03-10/2025-03-13?ucs=1tehueu&sort=bestflight_a\n",
      "https://www.il.kayak.com/flights/LON-PAR/2025-03-10/2025-03-14?ucs=1tehueu&sort=bestflight_a\n",
      "https://www.il.kayak.com/flights/LON-PAR/2025-03-10/2025-03-15?ucs=1tehueu&sort=bestflight_a\n",
      "https://www.il.kayak.com/flights/LON-PAR/2025-03-11/2025-03-12?ucs=1tehueu&sort=bestflight_a\n",
      "https://www.il.kayak.com/flights/LON-PAR/2025-03-11/2025-03-13?ucs=1tehueu&sort=bestflight_a\n",
      "https://www.il.kayak.com/flights/LON-PAR/2025-03-11/2025-03-14?ucs=1tehueu&sort=bestflight_a\n",
      "https://www.il.kayak.com/flights/LON-PAR/2025-03-11/2025-03-15?ucs=1tehueu&sort=bestflight_a\n",
      "https://www.il.kayak.com/flights/LON-PAR/2025-03-11/2025-03-16?ucs=1tehueu&sort=bestflight_a\n",
      "https://www.il.kayak.com/flights/LON-PAR/2025-03-12/2025-03-13?ucs=1tehueu&sort=bestflight_a\n",
      "https://www.il.kayak.com/flights/LON-PAR/2025-03-12/2025-03-14?ucs=1tehueu&sort=bestflight_a\n",
      "https://www.il.kayak.com/flights/LON-PAR/2025-03-12/2025-03-15?ucs=1tehueu&sort=bestflight_a\n",
      "https://www.il.kayak.com/flights/LON-PAR/2025-03-12/2025-03-16?ucs=1tehueu&sort=bestflight_a\n",
      "https://www.il.kayak.com/flights/LON-PAR/2025-03-12/2025-03-17?ucs=1tehueu&sort=bestflight_a\n",
      "https://www.il.kayak.com/flights/LON-PAR/2025-03-13/2025-03-14?ucs=1tehueu&sort=bestflight_a\n",
      "https://www.il.kayak.com/flights/LON-PAR/2025-03-13/2025-03-15?ucs=1tehueu&sort=bestflight_a\n",
      "https://www.il.kayak.com/flights/LON-PAR/2025-03-13/2025-03-16?ucs=1tehueu&sort=bestflight_a\n",
      "https://www.il.kayak.com/flights/LON-PAR/2025-03-13/2025-03-17?ucs=1tehueu&sort=bestflight_a\n",
      "https://www.il.kayak.com/flights/LON-PAR/2025-03-13/2025-03-18?ucs=1tehueu&sort=bestflight_a\n",
      "https://www.il.kayak.com/flights/LON-PAR/2025-03-14/2025-03-15?ucs=1tehueu&sort=bestflight_a\n",
      "https://www.il.kayak.com/flights/LON-PAR/2025-03-14/2025-03-16?ucs=1tehueu&sort=bestflight_a\n",
      "https://www.il.kayak.com/flights/LON-PAR/2025-03-14/2025-03-17?ucs=1tehueu&sort=bestflight_a\n",
      "https://www.il.kayak.com/flights/LON-PAR/2025-03-14/2025-03-18?ucs=1tehueu&sort=bestflight_a\n",
      "https://www.il.kayak.com/flights/LON-PAR/2025-03-14/2025-03-19?ucs=1tehueu&sort=bestflight_a\n",
      "https://www.il.kayak.com/flights/LON-PAR/2025-03-15/2025-03-16?ucs=1tehueu&sort=bestflight_a\n",
      "https://www.il.kayak.com/flights/LON-PAR/2025-03-15/2025-03-17?ucs=1tehueu&sort=bestflight_a\n",
      "https://www.il.kayak.com/flights/LON-PAR/2025-03-15/2025-03-18?ucs=1tehueu&sort=bestflight_a\n",
      "https://www.il.kayak.com/flights/LON-PAR/2025-03-15/2025-03-19?ucs=1tehueu&sort=bestflight_a\n",
      "https://www.il.kayak.com/flights/LON-PAR/2025-03-15/2025-03-20?ucs=1tehueu&sort=bestflight_a\n",
      "https://www.il.kayak.com/flights/LON-PAR/2025-03-16/2025-03-17?ucs=1tehueu&sort=bestflight_a\n",
      "https://www.il.kayak.com/flights/LON-PAR/2025-03-16/2025-03-18?ucs=1tehueu&sort=bestflight_a\n",
      "https://www.il.kayak.com/flights/LON-PAR/2025-03-16/2025-03-19?ucs=1tehueu&sort=bestflight_a\n",
      "https://www.il.kayak.com/flights/LON-PAR/2025-03-16/2025-03-20?ucs=1tehueu&sort=bestflight_a\n",
      "https://www.il.kayak.com/flights/LON-PAR/2025-03-16/2025-03-21?ucs=1tehueu&sort=bestflight_a\n",
      "https://www.il.kayak.com/flights/LON-PAR/2025-03-17/2025-03-18?ucs=1tehueu&sort=bestflight_a\n",
      "https://www.il.kayak.com/flights/LON-PAR/2025-03-17/2025-03-19?ucs=1tehueu&sort=bestflight_a\n",
      "https://www.il.kayak.com/flights/LON-PAR/2025-03-17/2025-03-20?ucs=1tehueu&sort=bestflight_a\n",
      "https://www.il.kayak.com/flights/LON-PAR/2025-03-17/2025-03-21?ucs=1tehueu&sort=bestflight_a\n",
      "https://www.il.kayak.com/flights/LON-PAR/2025-03-17/2025-03-22?ucs=1tehueu&sort=bestflight_a\n",
      "https://www.il.kayak.com/flights/LON-PAR/2025-03-18/2025-03-19?ucs=1tehueu&sort=bestflight_a\n",
      "https://www.il.kayak.com/flights/LON-PAR/2025-03-18/2025-03-20?ucs=1tehueu&sort=bestflight_a\n",
      "https://www.il.kayak.com/flights/LON-PAR/2025-03-18/2025-03-21?ucs=1tehueu&sort=bestflight_a\n",
      "https://www.il.kayak.com/flights/LON-PAR/2025-03-18/2025-03-22?ucs=1tehueu&sort=bestflight_a\n",
      "https://www.il.kayak.com/flights/LON-PAR/2025-03-18/2025-03-23?ucs=1tehueu&sort=bestflight_a\n",
      "https://www.il.kayak.com/flights/LON-PAR/2025-03-19/2025-03-20?ucs=1tehueu&sort=bestflight_a\n",
      "https://www.il.kayak.com/flights/LON-PAR/2025-03-19/2025-03-21?ucs=1tehueu&sort=bestflight_a\n",
      "https://www.il.kayak.com/flights/LON-PAR/2025-03-19/2025-03-22?ucs=1tehueu&sort=bestflight_a\n",
      "https://www.il.kayak.com/flights/LON-PAR/2025-03-19/2025-03-23?ucs=1tehueu&sort=bestflight_a\n",
      "https://www.il.kayak.com/flights/LON-PAR/2025-03-19/2025-03-24?ucs=1tehueu&sort=bestflight_a\n",
      "https://www.il.kayak.com/flights/LON-PAR/2025-03-20/2025-03-21?ucs=1tehueu&sort=bestflight_a\n",
      "https://www.il.kayak.com/flights/LON-PAR/2025-03-20/2025-03-22?ucs=1tehueu&sort=bestflight_a\n",
      "https://www.il.kayak.com/flights/LON-PAR/2025-03-20/2025-03-23?ucs=1tehueu&sort=bestflight_a\n",
      "https://www.il.kayak.com/flights/LON-PAR/2025-03-20/2025-03-24?ucs=1tehueu&sort=bestflight_a\n",
      "https://www.il.kayak.com/flights/LON-PAR/2025-03-20/2025-03-25?ucs=1tehueu&sort=bestflight_a\n",
      "https://www.il.kayak.com/flights/LON-PAR/2025-03-21/2025-03-22?ucs=1tehueu&sort=bestflight_a\n",
      "https://www.il.kayak.com/flights/LON-PAR/2025-03-21/2025-03-23?ucs=1tehueu&sort=bestflight_a\n",
      "https://www.il.kayak.com/flights/LON-PAR/2025-03-21/2025-03-24?ucs=1tehueu&sort=bestflight_a\n",
      "https://www.il.kayak.com/flights/LON-PAR/2025-03-21/2025-03-25?ucs=1tehueu&sort=bestflight_a\n",
      "https://www.il.kayak.com/flights/LON-PAR/2025-03-21/2025-03-26?ucs=1tehueu&sort=bestflight_a\n",
      "https://www.il.kayak.com/flights/LON-PAR/2025-03-22/2025-03-23?ucs=1tehueu&sort=bestflight_a\n",
      "https://www.il.kayak.com/flights/LON-PAR/2025-03-22/2025-03-24?ucs=1tehueu&sort=bestflight_a\n",
      "https://www.il.kayak.com/flights/LON-PAR/2025-03-22/2025-03-25?ucs=1tehueu&sort=bestflight_a\n",
      "https://www.il.kayak.com/flights/LON-PAR/2025-03-22/2025-03-26?ucs=1tehueu&sort=bestflight_a\n",
      "https://www.il.kayak.com/flights/LON-PAR/2025-03-22/2025-03-27?ucs=1tehueu&sort=bestflight_a\n",
      "https://www.il.kayak.com/flights/LON-PAR/2025-03-23/2025-03-24?ucs=1tehueu&sort=bestflight_a\n",
      "https://www.il.kayak.com/flights/LON-PAR/2025-03-23/2025-03-25?ucs=1tehueu&sort=bestflight_a\n",
      "https://www.il.kayak.com/flights/LON-PAR/2025-03-23/2025-03-26?ucs=1tehueu&sort=bestflight_a\n",
      "https://www.il.kayak.com/flights/LON-PAR/2025-03-23/2025-03-27?ucs=1tehueu&sort=bestflight_a\n",
      "https://www.il.kayak.com/flights/LON-PAR/2025-03-23/2025-03-28?ucs=1tehueu&sort=bestflight_a\n",
      "https://www.il.kayak.com/flights/LON-PAR/2025-03-24/2025-03-25?ucs=1tehueu&sort=bestflight_a\n",
      "https://www.il.kayak.com/flights/LON-PAR/2025-03-24/2025-03-26?ucs=1tehueu&sort=bestflight_a\n",
      "https://www.il.kayak.com/flights/LON-PAR/2025-03-24/2025-03-27?ucs=1tehueu&sort=bestflight_a\n",
      "https://www.il.kayak.com/flights/LON-PAR/2025-03-24/2025-03-28?ucs=1tehueu&sort=bestflight_a\n",
      "https://www.il.kayak.com/flights/LON-PAR/2025-03-24/2025-03-29?ucs=1tehueu&sort=bestflight_a\n",
      "https://www.il.kayak.com/flights/LON-PAR/2025-03-25/2025-03-26?ucs=1tehueu&sort=bestflight_a\n",
      "https://www.il.kayak.com/flights/LON-PAR/2025-03-25/2025-03-27?ucs=1tehueu&sort=bestflight_a\n",
      "https://www.il.kayak.com/flights/LON-PAR/2025-03-25/2025-03-28?ucs=1tehueu&sort=bestflight_a\n",
      "https://www.il.kayak.com/flights/LON-PAR/2025-03-25/2025-03-29?ucs=1tehueu&sort=bestflight_a\n",
      "https://www.il.kayak.com/flights/LON-PAR/2025-03-25/2025-03-30?ucs=1tehueu&sort=bestflight_a\n",
      "https://www.il.kayak.com/flights/LON-PAR/2025-03-26/2025-03-27?ucs=1tehueu&sort=bestflight_a\n",
      "https://www.il.kayak.com/flights/LON-PAR/2025-03-26/2025-03-28?ucs=1tehueu&sort=bestflight_a\n",
      "https://www.il.kayak.com/flights/LON-PAR/2025-03-26/2025-03-29?ucs=1tehueu&sort=bestflight_a\n",
      "https://www.il.kayak.com/flights/LON-PAR/2025-03-26/2025-03-30?ucs=1tehueu&sort=bestflight_a\n",
      "https://www.il.kayak.com/flights/LON-PAR/2025-03-26/2025-03-31?ucs=1tehueu&sort=bestflight_a\n",
      "https://www.il.kayak.com/flights/LON-PAR/2025-03-27/2025-03-28?ucs=1tehueu&sort=bestflight_a\n",
      "https://www.il.kayak.com/flights/LON-PAR/2025-03-27/2025-03-29?ucs=1tehueu&sort=bestflight_a\n",
      "https://www.il.kayak.com/flights/LON-PAR/2025-03-27/2025-03-30?ucs=1tehueu&sort=bestflight_a\n",
      "https://www.il.kayak.com/flights/LON-PAR/2025-03-27/2025-03-31?ucs=1tehueu&sort=bestflight_a\n",
      "https://www.il.kayak.com/flights/LON-PAR/2025-03-27/2025-04-01?ucs=1tehueu&sort=bestflight_a\n",
      "https://www.il.kayak.com/flights/LON-PAR/2025-03-28/2025-03-29?ucs=1tehueu&sort=bestflight_a\n",
      "https://www.il.kayak.com/flights/LON-PAR/2025-03-28/2025-03-30?ucs=1tehueu&sort=bestflight_a\n",
      "https://www.il.kayak.com/flights/LON-PAR/2025-03-28/2025-03-31?ucs=1tehueu&sort=bestflight_a\n",
      "https://www.il.kayak.com/flights/LON-PAR/2025-03-28/2025-04-01?ucs=1tehueu&sort=bestflight_a\n",
      "https://www.il.kayak.com/flights/LON-PAR/2025-03-28/2025-04-02?ucs=1tehueu&sort=bestflight_a\n"
     ]
    }
   ],
   "source": [
    "all_urls = []\n",
    "\n",
    "# Create the URLs\n",
    "for t in TTT:\n",
    "    for delta in range(1, 6):  # Iterate from +1 to +5 days\n",
    "        return_date = (datetime.strptime(t, \"%Y-%m-%d\") + timedelta(days=delta)).strftime(\"%Y-%m-%d\")\n",
    "        url = f\"{first_part_url}{'LON'}-{'PAR'}/{t}/{return_date}{last_part_url}\"\n",
    "        all_urls.append(url)\n",
    "\n",
    "\n",
    "print(f\"Total URLs generated: {len(all_urls)}\")\n",
    "print(\"Sample URLs:\")\n",
    "for u in all_urls[:]:  # Show just the first 10\n",
    "    print(u)"
   ]
  },
  {
   "cell_type": "code",
   "execution_count": 70,
   "metadata": {},
   "outputs": [],
   "source": [
    "driver = webdriver.Chrome()\n",
    "driver.get('https://www.il.kayak.com/flights/LON-PAR/2025-02-27/2025-02-27?ucs=1tehueu&sort=bestflight_a')"
   ]
  },
  {
   "cell_type": "code",
   "execution_count": null,
   "metadata": {},
   "outputs": [
    {
     "ename": "KeyboardInterrupt",
     "evalue": "",
     "output_type": "error",
     "traceback": [
      "\u001b[1;31m---------------------------------------------------------------------------\u001b[0m",
      "\u001b[1;31mKeyboardInterrupt\u001b[0m                         Traceback (most recent call last)",
      "Cell \u001b[1;32mIn[71], line 17\u001b[0m\n\u001b[0;32m     15\u001b[0m \u001b[38;5;28;01mif\u001b[39;00m load_more_buttons:\n\u001b[0;32m     16\u001b[0m     load_more_buttons[\u001b[38;5;241m0\u001b[39m]\u001b[38;5;241m.\u001b[39mclick()\n\u001b[1;32m---> 17\u001b[0m     time\u001b[38;5;241m.\u001b[39msleep(\u001b[38;5;241m2\u001b[39m)\n\u001b[0;32m     18\u001b[0m \u001b[38;5;28;01melse\u001b[39;00m:\n\u001b[0;32m     19\u001b[0m     \u001b[38;5;28;01mbreak\u001b[39;00m\n",
      "\u001b[1;31mKeyboardInterrupt\u001b[0m: "
     ]
    }
   ],
   "source": [
    "with open('flight_data.csv', mode='w', newline='', encoding='utf-8') as file:\n",
    "    writer = csv.writer(file)\n",
    "    writer.writerow([\"Departure Date\", \"Return Date\", \"Flight Duration\", \"Price\"])\n",
    "\n",
    "    for url in all_urls:\n",
    "        driver.get(url)\n",
    "        time.sleep(3)\n",
    "        \n",
    "        # Click 'Show More' button until 100 results are present\n",
    "        while True:\n",
    "            elements = driver.find_elements(By.XPATH, './/*[@class=\"Fxw9-result-item-container\"]')\n",
    "            if len(elements) >= 100:\n",
    "                break\n",
    "            load_more_buttons = driver.find_elements(By.XPATH, '//*[@class=\"ULvh-button show-more-button\"]')\n",
    "            if load_more_buttons:\n",
    "                load_more_buttons[0].click()\n",
    "                time.sleep(2)\n",
    "            else:\n",
    "                break\n",
    "        \n",
    "        # Extract flight details\n",
    "        for item in driver.find_elements(By.XPATH, './/*[@class=\"nrc6-inner\"]'):\n",
    "            try:\n",
    "                duration = item.find_element(By.XPATH, './/*[@class=\"c3J0r c3J0r-mod-desktop-responsive\"]').text\n",
    "                price = item.find_element(By.XPATH, './/*[@class=\"f8F1-price-text\"]').text\n",
    "                writer.writerow([snapshot_date,t, return_date, duration, price])\n",
    "            except:\n",
    "                continue\n",
    "\n",
    "# Close WebDriver\n",
    "driver.quit()"
   ]
  },
  {
   "cell_type": "code",
   "execution_count": null,
   "metadata": {},
   "outputs": [],
   "source": []
  }
 ],
 "metadata": {
  "kernelspec": {
   "display_name": "base",
   "language": "python",
   "name": "python3"
  },
  "language_info": {
   "codemirror_mode": {
    "name": "ipython",
    "version": 3
   },
   "file_extension": ".py",
   "mimetype": "text/x-python",
   "name": "python",
   "nbconvert_exporter": "python",
   "pygments_lexer": "ipython3",
   "version": "3.11.7"
  }
 },
 "nbformat": 4,
 "nbformat_minor": 2
}
