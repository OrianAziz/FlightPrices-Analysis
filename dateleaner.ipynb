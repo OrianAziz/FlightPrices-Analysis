{
 "cells": [
  {
   "cell_type": "code",
   "execution_count": null,
   "metadata": {},
   "outputs": [],
   "source": [
    "import csv\n",
    "\n",
    "input_file = \"flight_data_momondo_03_04_25 needed.csv\"\n",
    "output_file = \"output.csv\"\n",
    "\n",
    "# Strings that, if found in any column of a row, cause that row to be skipped\n",
    "blocked_strings = [\"ticket\", \"bus\",\"eurostar\"]\n",
    "\n",
    "with open(input_file, mode=\"r\", encoding=\"utf-8\") as fin, \\\n",
    "     open(output_file, mode=\"w\", newline=\"\", encoding=\"utf-8\") as fout:\n",
    "\n",
    "    reader = csv.reader(fin)\n",
    "    writer = csv.writer(fout)\n",
    "\n",
    "    # Read the header row\n",
    "    header = next(reader, None)\n",
    "    # Process all remaining rows\n",
    "    for row in reader:\n",
    "        # Check if this row should be skipped (contains 'ticket' or 'bus')\n",
    "        # We'll do a case-insensitive check by converting each cell to lowercase\n",
    "        # and see if either substring is present.\n",
    "        row_string_lower = \" \".join(cell.lower() for cell in row)\n",
    "        if any(bad in row_string_lower for bad in blocked_strings):\n",
    "            # Skip this row entirely\n",
    "            continue\n",
    "\n",
    "        # Write the cleaned row\n",
    "        writer.writerow(row)"
   ]
  },
  {
   "cell_type": "code",
   "execution_count": null,
   "metadata": {},
   "outputs": [],
   "source": []
  }
 ],
 "metadata": {
  "kernelspec": {
   "display_name": "base",
   "language": "python",
   "name": "python3"
  },
  "language_info": {
   "codemirror_mode": {
    "name": "ipython",
    "version": 3
   },
   "file_extension": ".py",
   "mimetype": "text/x-python",
   "name": "python",
   "nbconvert_exporter": "python",
   "pygments_lexer": "ipython3",
   "version": "3.10.9"
  }
 },
 "nbformat": 4,
 "nbformat_minor": 2
}
